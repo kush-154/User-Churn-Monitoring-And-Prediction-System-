{
 "cells": [
  {
   "cell_type": "code",
   "execution_count": 15,
   "id": "0f8cb7b0",
   "metadata": {},
   "outputs": [],
   "source": [
    "import numpy as np\n",
    "import pandas as pd\n",
    "import pickle"
   ]
  },
  {
   "cell_type": "code",
   "execution_count": 16,
   "id": "a0c85946",
   "metadata": {},
   "outputs": [],
   "source": [
    "pipe = pickle.load(open('churn_prediction.pkl','rb'))"
   ]
  },
  {
   "cell_type": "code",
   "execution_count": 17,
   "id": "17f473f1",
   "metadata": {},
   "outputs": [],
   "source": [
    "test_input = pd.DataFrame({\n",
    "    'service_type': ['Mobile'],\n",
    "    'feedback_rating':[3],\n",
    "    'complaint_type':['App'],\n",
    "    'usage_month':[1],\n",
    "    'usage_minutes':[1000]\n",
    "})"
   ]
  },
  {
   "cell_type": "code",
   "execution_count": 18,
   "id": "087c3229",
   "metadata": {},
   "outputs": [
    {
     "data": {
      "text/plain": [
       "array([1])"
      ]
     },
     "execution_count": 18,
     "metadata": {},
     "output_type": "execute_result"
    }
   ],
   "source": [
    "pipe.predict(test_input)"
   ]
  }
 ],
 "metadata": {
  "kernelspec": {
   "display_name": "Python 3",
   "language": "python",
   "name": "python3"
  },
  "language_info": {
   "codemirror_mode": {
    "name": "ipython",
    "version": 3
   },
   "file_extension": ".py",
   "mimetype": "text/x-python",
   "name": "python",
   "nbconvert_exporter": "python",
   "pygments_lexer": "ipython3",
   "version": "3.13.1"
  }
 },
 "nbformat": 4,
 "nbformat_minor": 5
}
